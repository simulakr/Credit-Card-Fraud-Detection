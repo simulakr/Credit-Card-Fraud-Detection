{
  "nbformat": 4,
  "nbformat_minor": 0,
  "metadata": {
    "colab": {
      "provenance": []
    },
    "kernelspec": {
      "name": "python3",
      "display_name": "Python 3"
    },
    "language_info": {
      "name": "python"
    }
  },
  "cells": [
    {
      "cell_type": "markdown",
      "source": [
        "# Credit Card Fraud Detection"
      ],
      "metadata": {
        "id": "eGxVgjDyXy6m"
      }
    },
    {
      "cell_type": "code",
      "execution_count": 1,
      "metadata": {
        "id": "_UVOhny0XpX_"
      },
      "outputs": [],
      "source": [
        "import numpy as np\n",
        "import pandas as pd\n",
        "import matplotlib.pyplot as plt\n",
        "import seaborn as sns\n",
        "\n",
        "from sklearn.utils import resample\n",
        "from sklearn.preprocessing import RobustScaler, OneHotEncoder, LabelEncoder\n",
        "from sklearn.metrics import precision_score, accuracy_score, recall_score, f1_score, roc_auc_score, confusion_matrix, classification_report, roc_curve\n",
        "from sklearn.model_selection import cross_validate, train_test_split\n",
        "from matplotlib import rc,rcParams\n",
        "import itertools\n",
        "from sklearn.linear_model import LogisticRegression\n",
        "\n",
        "from imblearn.over_sampling import RandomOverSampler, SMOTE, ADASYN\n",
        "from imblearn.under_sampling import RandomUnderSampler, TomekLinks, EditedNearestNeighbours\n",
        "\n",
        "pd.set_option('display.max_columns', None)\n",
        "pd.set_option('display.width', 500)\n",
        "pd.set_option('display.expand_frame_repr', False)\n",
        "pd.set_option('display.float_format', lambda x: '%.2f'%x)"
      ]
    },
    {
      "cell_type": "code",
      "source": [
        "df = pd.read_csv(\"creditcard.csv\")\n",
        "df.head()"
      ],
      "metadata": {
        "colab": {
          "base_uri": "https://localhost:8080/",
          "height": 206
        },
        "id": "pT_Z0EM5XyXH",
        "outputId": "605ccac7-8b16-4cd0-9701-100afdf68142"
      },
      "execution_count": 2,
      "outputs": [
        {
          "output_type": "execute_result",
          "data": {
            "text/plain": [
              "   Time    V1    V2   V3    V4    V5    V6    V7    V8    V9   V10   V11   V12   V13   V14   V15   V16   V17   V18   V19   V20   V21   V22   V23   V24   V25   V26   V27   V28  Amount  Class\n",
              "0  0.00 -1.36 -0.07 2.54  1.38 -0.34  0.46  0.24  0.10  0.36  0.09 -0.55 -0.62 -0.99 -0.31  1.47 -0.47  0.21  0.03  0.40  0.25 -0.02  0.28 -0.11  0.07  0.13 -0.19  0.13 -0.02  149.62      0\n",
              "1  0.00  1.19  0.27 0.17  0.45  0.06 -0.08 -0.08  0.09 -0.26 -0.17  1.61  1.07  0.49 -0.14  0.64  0.46 -0.11 -0.18 -0.15 -0.07 -0.23 -0.64  0.10 -0.34  0.17  0.13 -0.01  0.01    2.69      0\n",
              "2  1.00 -1.36 -1.34 1.77  0.38 -0.50  1.80  0.79  0.25 -1.51  0.21  0.62  0.07  0.72 -0.17  2.35 -2.89  1.11 -0.12 -2.26  0.52  0.25  0.77  0.91 -0.69 -0.33 -0.14 -0.06 -0.06  378.66      0\n",
              "3  1.00 -0.97 -0.19 1.79 -0.86 -0.01  1.25  0.24  0.38 -1.39 -0.05 -0.23  0.18  0.51 -0.29 -0.63 -1.06 -0.68  1.97 -1.23 -0.21 -0.11  0.01 -0.19 -1.18  0.65 -0.22  0.06  0.06  123.50      0\n",
              "4  2.00 -1.16  0.88 1.55  0.40 -0.41  0.10  0.59 -0.27  0.82  0.75 -0.82  0.54  1.35 -1.12  0.18 -0.45 -0.24 -0.04  0.80  0.41 -0.01  0.80 -0.14  0.14 -0.21  0.50  0.22  0.22   69.99      0"
            ],
            "text/html": [
              "\n",
              "  <div id=\"df-3c6bb4a6-9f16-4ae7-8481-b948b6acd946\" class=\"colab-df-container\">\n",
              "    <div>\n",
              "<style scoped>\n",
              "    .dataframe tbody tr th:only-of-type {\n",
              "        vertical-align: middle;\n",
              "    }\n",
              "\n",
              "    .dataframe tbody tr th {\n",
              "        vertical-align: top;\n",
              "    }\n",
              "\n",
              "    .dataframe thead th {\n",
              "        text-align: right;\n",
              "    }\n",
              "</style>\n",
              "<table border=\"1\" class=\"dataframe\">\n",
              "  <thead>\n",
              "    <tr style=\"text-align: right;\">\n",
              "      <th></th>\n",
              "      <th>Time</th>\n",
              "      <th>V1</th>\n",
              "      <th>V2</th>\n",
              "      <th>V3</th>\n",
              "      <th>V4</th>\n",
              "      <th>V5</th>\n",
              "      <th>V6</th>\n",
              "      <th>V7</th>\n",
              "      <th>V8</th>\n",
              "      <th>V9</th>\n",
              "      <th>V10</th>\n",
              "      <th>V11</th>\n",
              "      <th>V12</th>\n",
              "      <th>V13</th>\n",
              "      <th>V14</th>\n",
              "      <th>V15</th>\n",
              "      <th>V16</th>\n",
              "      <th>V17</th>\n",
              "      <th>V18</th>\n",
              "      <th>V19</th>\n",
              "      <th>V20</th>\n",
              "      <th>V21</th>\n",
              "      <th>V22</th>\n",
              "      <th>V23</th>\n",
              "      <th>V24</th>\n",
              "      <th>V25</th>\n",
              "      <th>V26</th>\n",
              "      <th>V27</th>\n",
              "      <th>V28</th>\n",
              "      <th>Amount</th>\n",
              "      <th>Class</th>\n",
              "    </tr>\n",
              "  </thead>\n",
              "  <tbody>\n",
              "    <tr>\n",
              "      <th>0</th>\n",
              "      <td>0.00</td>\n",
              "      <td>-1.36</td>\n",
              "      <td>-0.07</td>\n",
              "      <td>2.54</td>\n",
              "      <td>1.38</td>\n",
              "      <td>-0.34</td>\n",
              "      <td>0.46</td>\n",
              "      <td>0.24</td>\n",
              "      <td>0.10</td>\n",
              "      <td>0.36</td>\n",
              "      <td>0.09</td>\n",
              "      <td>-0.55</td>\n",
              "      <td>-0.62</td>\n",
              "      <td>-0.99</td>\n",
              "      <td>-0.31</td>\n",
              "      <td>1.47</td>\n",
              "      <td>-0.47</td>\n",
              "      <td>0.21</td>\n",
              "      <td>0.03</td>\n",
              "      <td>0.40</td>\n",
              "      <td>0.25</td>\n",
              "      <td>-0.02</td>\n",
              "      <td>0.28</td>\n",
              "      <td>-0.11</td>\n",
              "      <td>0.07</td>\n",
              "      <td>0.13</td>\n",
              "      <td>-0.19</td>\n",
              "      <td>0.13</td>\n",
              "      <td>-0.02</td>\n",
              "      <td>149.62</td>\n",
              "      <td>0</td>\n",
              "    </tr>\n",
              "    <tr>\n",
              "      <th>1</th>\n",
              "      <td>0.00</td>\n",
              "      <td>1.19</td>\n",
              "      <td>0.27</td>\n",
              "      <td>0.17</td>\n",
              "      <td>0.45</td>\n",
              "      <td>0.06</td>\n",
              "      <td>-0.08</td>\n",
              "      <td>-0.08</td>\n",
              "      <td>0.09</td>\n",
              "      <td>-0.26</td>\n",
              "      <td>-0.17</td>\n",
              "      <td>1.61</td>\n",
              "      <td>1.07</td>\n",
              "      <td>0.49</td>\n",
              "      <td>-0.14</td>\n",
              "      <td>0.64</td>\n",
              "      <td>0.46</td>\n",
              "      <td>-0.11</td>\n",
              "      <td>-0.18</td>\n",
              "      <td>-0.15</td>\n",
              "      <td>-0.07</td>\n",
              "      <td>-0.23</td>\n",
              "      <td>-0.64</td>\n",
              "      <td>0.10</td>\n",
              "      <td>-0.34</td>\n",
              "      <td>0.17</td>\n",
              "      <td>0.13</td>\n",
              "      <td>-0.01</td>\n",
              "      <td>0.01</td>\n",
              "      <td>2.69</td>\n",
              "      <td>0</td>\n",
              "    </tr>\n",
              "    <tr>\n",
              "      <th>2</th>\n",
              "      <td>1.00</td>\n",
              "      <td>-1.36</td>\n",
              "      <td>-1.34</td>\n",
              "      <td>1.77</td>\n",
              "      <td>0.38</td>\n",
              "      <td>-0.50</td>\n",
              "      <td>1.80</td>\n",
              "      <td>0.79</td>\n",
              "      <td>0.25</td>\n",
              "      <td>-1.51</td>\n",
              "      <td>0.21</td>\n",
              "      <td>0.62</td>\n",
              "      <td>0.07</td>\n",
              "      <td>0.72</td>\n",
              "      <td>-0.17</td>\n",
              "      <td>2.35</td>\n",
              "      <td>-2.89</td>\n",
              "      <td>1.11</td>\n",
              "      <td>-0.12</td>\n",
              "      <td>-2.26</td>\n",
              "      <td>0.52</td>\n",
              "      <td>0.25</td>\n",
              "      <td>0.77</td>\n",
              "      <td>0.91</td>\n",
              "      <td>-0.69</td>\n",
              "      <td>-0.33</td>\n",
              "      <td>-0.14</td>\n",
              "      <td>-0.06</td>\n",
              "      <td>-0.06</td>\n",
              "      <td>378.66</td>\n",
              "      <td>0</td>\n",
              "    </tr>\n",
              "    <tr>\n",
              "      <th>3</th>\n",
              "      <td>1.00</td>\n",
              "      <td>-0.97</td>\n",
              "      <td>-0.19</td>\n",
              "      <td>1.79</td>\n",
              "      <td>-0.86</td>\n",
              "      <td>-0.01</td>\n",
              "      <td>1.25</td>\n",
              "      <td>0.24</td>\n",
              "      <td>0.38</td>\n",
              "      <td>-1.39</td>\n",
              "      <td>-0.05</td>\n",
              "      <td>-0.23</td>\n",
              "      <td>0.18</td>\n",
              "      <td>0.51</td>\n",
              "      <td>-0.29</td>\n",
              "      <td>-0.63</td>\n",
              "      <td>-1.06</td>\n",
              "      <td>-0.68</td>\n",
              "      <td>1.97</td>\n",
              "      <td>-1.23</td>\n",
              "      <td>-0.21</td>\n",
              "      <td>-0.11</td>\n",
              "      <td>0.01</td>\n",
              "      <td>-0.19</td>\n",
              "      <td>-1.18</td>\n",
              "      <td>0.65</td>\n",
              "      <td>-0.22</td>\n",
              "      <td>0.06</td>\n",
              "      <td>0.06</td>\n",
              "      <td>123.50</td>\n",
              "      <td>0</td>\n",
              "    </tr>\n",
              "    <tr>\n",
              "      <th>4</th>\n",
              "      <td>2.00</td>\n",
              "      <td>-1.16</td>\n",
              "      <td>0.88</td>\n",
              "      <td>1.55</td>\n",
              "      <td>0.40</td>\n",
              "      <td>-0.41</td>\n",
              "      <td>0.10</td>\n",
              "      <td>0.59</td>\n",
              "      <td>-0.27</td>\n",
              "      <td>0.82</td>\n",
              "      <td>0.75</td>\n",
              "      <td>-0.82</td>\n",
              "      <td>0.54</td>\n",
              "      <td>1.35</td>\n",
              "      <td>-1.12</td>\n",
              "      <td>0.18</td>\n",
              "      <td>-0.45</td>\n",
              "      <td>-0.24</td>\n",
              "      <td>-0.04</td>\n",
              "      <td>0.80</td>\n",
              "      <td>0.41</td>\n",
              "      <td>-0.01</td>\n",
              "      <td>0.80</td>\n",
              "      <td>-0.14</td>\n",
              "      <td>0.14</td>\n",
              "      <td>-0.21</td>\n",
              "      <td>0.50</td>\n",
              "      <td>0.22</td>\n",
              "      <td>0.22</td>\n",
              "      <td>69.99</td>\n",
              "      <td>0</td>\n",
              "    </tr>\n",
              "  </tbody>\n",
              "</table>\n",
              "</div>\n",
              "    <div class=\"colab-df-buttons\">\n",
              "\n",
              "  <div class=\"colab-df-container\">\n",
              "    <button class=\"colab-df-convert\" onclick=\"convertToInteractive('df-3c6bb4a6-9f16-4ae7-8481-b948b6acd946')\"\n",
              "            title=\"Convert this dataframe to an interactive table.\"\n",
              "            style=\"display:none;\">\n",
              "\n",
              "  <svg xmlns=\"http://www.w3.org/2000/svg\" height=\"24px\" viewBox=\"0 -960 960 960\">\n",
              "    <path d=\"M120-120v-720h720v720H120Zm60-500h600v-160H180v160Zm220 220h160v-160H400v160Zm0 220h160v-160H400v160ZM180-400h160v-160H180v160Zm440 0h160v-160H620v160ZM180-180h160v-160H180v160Zm440 0h160v-160H620v160Z\"/>\n",
              "  </svg>\n",
              "    </button>\n",
              "\n",
              "  <style>\n",
              "    .colab-df-container {\n",
              "      display:flex;\n",
              "      gap: 12px;\n",
              "    }\n",
              "\n",
              "    .colab-df-convert {\n",
              "      background-color: #E8F0FE;\n",
              "      border: none;\n",
              "      border-radius: 50%;\n",
              "      cursor: pointer;\n",
              "      display: none;\n",
              "      fill: #1967D2;\n",
              "      height: 32px;\n",
              "      padding: 0 0 0 0;\n",
              "      width: 32px;\n",
              "    }\n",
              "\n",
              "    .colab-df-convert:hover {\n",
              "      background-color: #E2EBFA;\n",
              "      box-shadow: 0px 1px 2px rgba(60, 64, 67, 0.3), 0px 1px 3px 1px rgba(60, 64, 67, 0.15);\n",
              "      fill: #174EA6;\n",
              "    }\n",
              "\n",
              "    .colab-df-buttons div {\n",
              "      margin-bottom: 4px;\n",
              "    }\n",
              "\n",
              "    [theme=dark] .colab-df-convert {\n",
              "      background-color: #3B4455;\n",
              "      fill: #D2E3FC;\n",
              "    }\n",
              "\n",
              "    [theme=dark] .colab-df-convert:hover {\n",
              "      background-color: #434B5C;\n",
              "      box-shadow: 0px 1px 3px 1px rgba(0, 0, 0, 0.15);\n",
              "      filter: drop-shadow(0px 1px 2px rgba(0, 0, 0, 0.3));\n",
              "      fill: #FFFFFF;\n",
              "    }\n",
              "  </style>\n",
              "\n",
              "    <script>\n",
              "      const buttonEl =\n",
              "        document.querySelector('#df-3c6bb4a6-9f16-4ae7-8481-b948b6acd946 button.colab-df-convert');\n",
              "      buttonEl.style.display =\n",
              "        google.colab.kernel.accessAllowed ? 'block' : 'none';\n",
              "\n",
              "      async function convertToInteractive(key) {\n",
              "        const element = document.querySelector('#df-3c6bb4a6-9f16-4ae7-8481-b948b6acd946');\n",
              "        const dataTable =\n",
              "          await google.colab.kernel.invokeFunction('convertToInteractive',\n",
              "                                                    [key], {});\n",
              "        if (!dataTable) return;\n",
              "\n",
              "        const docLinkHtml = 'Like what you see? Visit the ' +\n",
              "          '<a target=\"_blank\" href=https://colab.research.google.com/notebooks/data_table.ipynb>data table notebook</a>'\n",
              "          + ' to learn more about interactive tables.';\n",
              "        element.innerHTML = '';\n",
              "        dataTable['output_type'] = 'display_data';\n",
              "        await google.colab.output.renderOutput(dataTable, element);\n",
              "        const docLink = document.createElement('div');\n",
              "        docLink.innerHTML = docLinkHtml;\n",
              "        element.appendChild(docLink);\n",
              "      }\n",
              "    </script>\n",
              "  </div>\n",
              "\n",
              "\n",
              "<div id=\"df-a95e3e74-7c9f-4e4d-bf0d-7ab899feadff\">\n",
              "  <button class=\"colab-df-quickchart\" onclick=\"quickchart('df-a95e3e74-7c9f-4e4d-bf0d-7ab899feadff')\"\n",
              "            title=\"Suggest charts\"\n",
              "            style=\"display:none;\">\n",
              "\n",
              "<svg xmlns=\"http://www.w3.org/2000/svg\" height=\"24px\"viewBox=\"0 0 24 24\"\n",
              "     width=\"24px\">\n",
              "    <g>\n",
              "        <path d=\"M19 3H5c-1.1 0-2 .9-2 2v14c0 1.1.9 2 2 2h14c1.1 0 2-.9 2-2V5c0-1.1-.9-2-2-2zM9 17H7v-7h2v7zm4 0h-2V7h2v10zm4 0h-2v-4h2v4z\"/>\n",
              "    </g>\n",
              "</svg>\n",
              "  </button>\n",
              "\n",
              "<style>\n",
              "  .colab-df-quickchart {\n",
              "      --bg-color: #E8F0FE;\n",
              "      --fill-color: #1967D2;\n",
              "      --hover-bg-color: #E2EBFA;\n",
              "      --hover-fill-color: #174EA6;\n",
              "      --disabled-fill-color: #AAA;\n",
              "      --disabled-bg-color: #DDD;\n",
              "  }\n",
              "\n",
              "  [theme=dark] .colab-df-quickchart {\n",
              "      --bg-color: #3B4455;\n",
              "      --fill-color: #D2E3FC;\n",
              "      --hover-bg-color: #434B5C;\n",
              "      --hover-fill-color: #FFFFFF;\n",
              "      --disabled-bg-color: #3B4455;\n",
              "      --disabled-fill-color: #666;\n",
              "  }\n",
              "\n",
              "  .colab-df-quickchart {\n",
              "    background-color: var(--bg-color);\n",
              "    border: none;\n",
              "    border-radius: 50%;\n",
              "    cursor: pointer;\n",
              "    display: none;\n",
              "    fill: var(--fill-color);\n",
              "    height: 32px;\n",
              "    padding: 0;\n",
              "    width: 32px;\n",
              "  }\n",
              "\n",
              "  .colab-df-quickchart:hover {\n",
              "    background-color: var(--hover-bg-color);\n",
              "    box-shadow: 0 1px 2px rgba(60, 64, 67, 0.3), 0 1px 3px 1px rgba(60, 64, 67, 0.15);\n",
              "    fill: var(--button-hover-fill-color);\n",
              "  }\n",
              "\n",
              "  .colab-df-quickchart-complete:disabled,\n",
              "  .colab-df-quickchart-complete:disabled:hover {\n",
              "    background-color: var(--disabled-bg-color);\n",
              "    fill: var(--disabled-fill-color);\n",
              "    box-shadow: none;\n",
              "  }\n",
              "\n",
              "  .colab-df-spinner {\n",
              "    border: 2px solid var(--fill-color);\n",
              "    border-color: transparent;\n",
              "    border-bottom-color: var(--fill-color);\n",
              "    animation:\n",
              "      spin 1s steps(1) infinite;\n",
              "  }\n",
              "\n",
              "  @keyframes spin {\n",
              "    0% {\n",
              "      border-color: transparent;\n",
              "      border-bottom-color: var(--fill-color);\n",
              "      border-left-color: var(--fill-color);\n",
              "    }\n",
              "    20% {\n",
              "      border-color: transparent;\n",
              "      border-left-color: var(--fill-color);\n",
              "      border-top-color: var(--fill-color);\n",
              "    }\n",
              "    30% {\n",
              "      border-color: transparent;\n",
              "      border-left-color: var(--fill-color);\n",
              "      border-top-color: var(--fill-color);\n",
              "      border-right-color: var(--fill-color);\n",
              "    }\n",
              "    40% {\n",
              "      border-color: transparent;\n",
              "      border-right-color: var(--fill-color);\n",
              "      border-top-color: var(--fill-color);\n",
              "    }\n",
              "    60% {\n",
              "      border-color: transparent;\n",
              "      border-right-color: var(--fill-color);\n",
              "    }\n",
              "    80% {\n",
              "      border-color: transparent;\n",
              "      border-right-color: var(--fill-color);\n",
              "      border-bottom-color: var(--fill-color);\n",
              "    }\n",
              "    90% {\n",
              "      border-color: transparent;\n",
              "      border-bottom-color: var(--fill-color);\n",
              "    }\n",
              "  }\n",
              "</style>\n",
              "\n",
              "  <script>\n",
              "    async function quickchart(key) {\n",
              "      const quickchartButtonEl =\n",
              "        document.querySelector('#' + key + ' button');\n",
              "      quickchartButtonEl.disabled = true;  // To prevent multiple clicks.\n",
              "      quickchartButtonEl.classList.add('colab-df-spinner');\n",
              "      try {\n",
              "        const charts = await google.colab.kernel.invokeFunction(\n",
              "            'suggestCharts', [key], {});\n",
              "      } catch (error) {\n",
              "        console.error('Error during call to suggestCharts:', error);\n",
              "      }\n",
              "      quickchartButtonEl.classList.remove('colab-df-spinner');\n",
              "      quickchartButtonEl.classList.add('colab-df-quickchart-complete');\n",
              "    }\n",
              "    (() => {\n",
              "      let quickchartButtonEl =\n",
              "        document.querySelector('#df-a95e3e74-7c9f-4e4d-bf0d-7ab899feadff button');\n",
              "      quickchartButtonEl.style.display =\n",
              "        google.colab.kernel.accessAllowed ? 'block' : 'none';\n",
              "    })();\n",
              "  </script>\n",
              "</div>\n",
              "\n",
              "    </div>\n",
              "  </div>\n"
            ],
            "application/vnd.google.colaboratory.intrinsic+json": {
              "type": "dataframe",
              "variable_name": "df"
            }
          },
          "metadata": {},
          "execution_count": 2
        }
      ]
    },
    {
      "cell_type": "code",
      "source": [
        "df.isnull().sum().sum()"
      ],
      "metadata": {
        "colab": {
          "base_uri": "https://localhost:8080/"
        },
        "id": "PLG9DUBmXybm",
        "outputId": "a274438c-db4a-46d1-ea22-8299ad0951c2"
      },
      "execution_count": 3,
      "outputs": [
        {
          "output_type": "execute_result",
          "data": {
            "text/plain": [
              "np.int64(0)"
            ]
          },
          "metadata": {},
          "execution_count": 3
        }
      ]
    },
    {
      "cell_type": "code",
      "source": [
        "df.dropna(inplace=True)"
      ],
      "metadata": {
        "id": "BZjoyGV6aPij"
      },
      "execution_count": 4,
      "outputs": []
    },
    {
      "cell_type": "code",
      "source": [
        "df.info()"
      ],
      "metadata": {
        "colab": {
          "base_uri": "https://localhost:8080/"
        },
        "id": "V_oOLdEOaJ0S",
        "outputId": "d39afedf-c299-42a2-c03d-c29063c04377"
      },
      "execution_count": 5,
      "outputs": [
        {
          "output_type": "stream",
          "name": "stdout",
          "text": [
            "<class 'pandas.core.frame.DataFrame'>\n",
            "RangeIndex: 284807 entries, 0 to 284806\n",
            "Data columns (total 31 columns):\n",
            " #   Column  Non-Null Count   Dtype  \n",
            "---  ------  --------------   -----  \n",
            " 0   Time    284807 non-null  float64\n",
            " 1   V1      284807 non-null  float64\n",
            " 2   V2      284807 non-null  float64\n",
            " 3   V3      284807 non-null  float64\n",
            " 4   V4      284807 non-null  float64\n",
            " 5   V5      284807 non-null  float64\n",
            " 6   V6      284807 non-null  float64\n",
            " 7   V7      284807 non-null  float64\n",
            " 8   V8      284807 non-null  float64\n",
            " 9   V9      284807 non-null  float64\n",
            " 10  V10     284807 non-null  float64\n",
            " 11  V11     284807 non-null  float64\n",
            " 12  V12     284807 non-null  float64\n",
            " 13  V13     284807 non-null  float64\n",
            " 14  V14     284807 non-null  float64\n",
            " 15  V15     284807 non-null  float64\n",
            " 16  V16     284807 non-null  float64\n",
            " 17  V17     284807 non-null  float64\n",
            " 18  V18     284807 non-null  float64\n",
            " 19  V19     284807 non-null  float64\n",
            " 20  V20     284807 non-null  float64\n",
            " 21  V21     284807 non-null  float64\n",
            " 22  V22     284807 non-null  float64\n",
            " 23  V23     284807 non-null  float64\n",
            " 24  V24     284807 non-null  float64\n",
            " 25  V25     284807 non-null  float64\n",
            " 26  V26     284807 non-null  float64\n",
            " 27  V27     284807 non-null  float64\n",
            " 28  V28     284807 non-null  float64\n",
            " 29  Amount  284807 non-null  float64\n",
            " 30  Class   284807 non-null  int64  \n",
            "dtypes: float64(30), int64(1)\n",
            "memory usage: 67.4 MB\n"
          ]
        }
      ]
    },
    {
      "cell_type": "code",
      "source": [
        "df.describe().T"
      ],
      "metadata": {
        "colab": {
          "base_uri": "https://localhost:8080/",
          "height": 1000
        },
        "id": "gkeb3WjGYMaP",
        "outputId": "0760042f-23c1-45bc-843f-769d3cf5b2d9"
      },
      "execution_count": 6,
      "outputs": [
        {
          "output_type": "execute_result",
          "data": {
            "text/plain": [
              "           count     mean      std     min      25%      50%       75%       max\n",
              "Time   284807.00 94813.86 47488.15    0.00 54201.50 84692.00 139320.50 172792.00\n",
              "V1     284807.00     0.00     1.96  -56.41    -0.92     0.02      1.32      2.45\n",
              "V2     284807.00     0.00     1.65  -72.72    -0.60     0.07      0.80     22.06\n",
              "V3     284807.00    -0.00     1.52  -48.33    -0.89     0.18      1.03      9.38\n",
              "V4     284807.00     0.00     1.42   -5.68    -0.85    -0.02      0.74     16.88\n",
              "V5     284807.00     0.00     1.38 -113.74    -0.69    -0.05      0.61     34.80\n",
              "V6     284807.00     0.00     1.33  -26.16    -0.77    -0.27      0.40     73.30\n",
              "V7     284807.00    -0.00     1.24  -43.56    -0.55     0.04      0.57    120.59\n",
              "V8     284807.00     0.00     1.19  -73.22    -0.21     0.02      0.33     20.01\n",
              "V9     284807.00    -0.00     1.10  -13.43    -0.64    -0.05      0.60     15.59\n",
              "V10    284807.00     0.00     1.09  -24.59    -0.54    -0.09      0.45     23.75\n",
              "V11    284807.00     0.00     1.02   -4.80    -0.76    -0.03      0.74     12.02\n",
              "V12    284807.00    -0.00     1.00  -18.68    -0.41     0.14      0.62      7.85\n",
              "V13    284807.00     0.00     1.00   -5.79    -0.65    -0.01      0.66      7.13\n",
              "V14    284807.00     0.00     0.96  -19.21    -0.43     0.05      0.49     10.53\n",
              "V15    284807.00     0.00     0.92   -4.50    -0.58     0.05      0.65      8.88\n",
              "V16    284807.00     0.00     0.88  -14.13    -0.47     0.07      0.52     17.32\n",
              "V17    284807.00    -0.00     0.85  -25.16    -0.48    -0.07      0.40      9.25\n",
              "V18    284807.00     0.00     0.84   -9.50    -0.50    -0.00      0.50      5.04\n",
              "V19    284807.00     0.00     0.81   -7.21    -0.46     0.00      0.46      5.59\n",
              "V20    284807.00     0.00     0.77  -54.50    -0.21    -0.06      0.13     39.42\n",
              "V21    284807.00     0.00     0.73  -34.83    -0.23    -0.03      0.19     27.20\n",
              "V22    284807.00    -0.00     0.73  -10.93    -0.54     0.01      0.53     10.50\n",
              "V23    284807.00     0.00     0.62  -44.81    -0.16    -0.01      0.15     22.53\n",
              "V24    284807.00     0.00     0.61   -2.84    -0.35     0.04      0.44      4.58\n",
              "V25    284807.00     0.00     0.52  -10.30    -0.32     0.02      0.35      7.52\n",
              "V26    284807.00     0.00     0.48   -2.60    -0.33    -0.05      0.24      3.52\n",
              "V27    284807.00    -0.00     0.40  -22.57    -0.07     0.00      0.09     31.61\n",
              "V28    284807.00    -0.00     0.33  -15.43    -0.05     0.01      0.08     33.85\n",
              "Amount 284807.00    88.35   250.12    0.00     5.60    22.00     77.16  25691.16\n",
              "Class  284807.00     0.00     0.04    0.00     0.00     0.00      0.00      1.00"
            ],
            "text/html": [
              "\n",
              "  <div id=\"df-102edc2e-1e63-4106-825f-b3fdcc6a7642\" class=\"colab-df-container\">\n",
              "    <div>\n",
              "<style scoped>\n",
              "    .dataframe tbody tr th:only-of-type {\n",
              "        vertical-align: middle;\n",
              "    }\n",
              "\n",
              "    .dataframe tbody tr th {\n",
              "        vertical-align: top;\n",
              "    }\n",
              "\n",
              "    .dataframe thead th {\n",
              "        text-align: right;\n",
              "    }\n",
              "</style>\n",
              "<table border=\"1\" class=\"dataframe\">\n",
              "  <thead>\n",
              "    <tr style=\"text-align: right;\">\n",
              "      <th></th>\n",
              "      <th>count</th>\n",
              "      <th>mean</th>\n",
              "      <th>std</th>\n",
              "      <th>min</th>\n",
              "      <th>25%</th>\n",
              "      <th>50%</th>\n",
              "      <th>75%</th>\n",
              "      <th>max</th>\n",
              "    </tr>\n",
              "  </thead>\n",
              "  <tbody>\n",
              "    <tr>\n",
              "      <th>Time</th>\n",
              "      <td>284807.00</td>\n",
              "      <td>94813.86</td>\n",
              "      <td>47488.15</td>\n",
              "      <td>0.00</td>\n",
              "      <td>54201.50</td>\n",
              "      <td>84692.00</td>\n",
              "      <td>139320.50</td>\n",
              "      <td>172792.00</td>\n",
              "    </tr>\n",
              "    <tr>\n",
              "      <th>V1</th>\n",
              "      <td>284807.00</td>\n",
              "      <td>0.00</td>\n",
              "      <td>1.96</td>\n",
              "      <td>-56.41</td>\n",
              "      <td>-0.92</td>\n",
              "      <td>0.02</td>\n",
              "      <td>1.32</td>\n",
              "      <td>2.45</td>\n",
              "    </tr>\n",
              "    <tr>\n",
              "      <th>V2</th>\n",
              "      <td>284807.00</td>\n",
              "      <td>0.00</td>\n",
              "      <td>1.65</td>\n",
              "      <td>-72.72</td>\n",
              "      <td>-0.60</td>\n",
              "      <td>0.07</td>\n",
              "      <td>0.80</td>\n",
              "      <td>22.06</td>\n",
              "    </tr>\n",
              "    <tr>\n",
              "      <th>V3</th>\n",
              "      <td>284807.00</td>\n",
              "      <td>-0.00</td>\n",
              "      <td>1.52</td>\n",
              "      <td>-48.33</td>\n",
              "      <td>-0.89</td>\n",
              "      <td>0.18</td>\n",
              "      <td>1.03</td>\n",
              "      <td>9.38</td>\n",
              "    </tr>\n",
              "    <tr>\n",
              "      <th>V4</th>\n",
              "      <td>284807.00</td>\n",
              "      <td>0.00</td>\n",
              "      <td>1.42</td>\n",
              "      <td>-5.68</td>\n",
              "      <td>-0.85</td>\n",
              "      <td>-0.02</td>\n",
              "      <td>0.74</td>\n",
              "      <td>16.88</td>\n",
              "    </tr>\n",
              "    <tr>\n",
              "      <th>V5</th>\n",
              "      <td>284807.00</td>\n",
              "      <td>0.00</td>\n",
              "      <td>1.38</td>\n",
              "      <td>-113.74</td>\n",
              "      <td>-0.69</td>\n",
              "      <td>-0.05</td>\n",
              "      <td>0.61</td>\n",
              "      <td>34.80</td>\n",
              "    </tr>\n",
              "    <tr>\n",
              "      <th>V6</th>\n",
              "      <td>284807.00</td>\n",
              "      <td>0.00</td>\n",
              "      <td>1.33</td>\n",
              "      <td>-26.16</td>\n",
              "      <td>-0.77</td>\n",
              "      <td>-0.27</td>\n",
              "      <td>0.40</td>\n",
              "      <td>73.30</td>\n",
              "    </tr>\n",
              "    <tr>\n",
              "      <th>V7</th>\n",
              "      <td>284807.00</td>\n",
              "      <td>-0.00</td>\n",
              "      <td>1.24</td>\n",
              "      <td>-43.56</td>\n",
              "      <td>-0.55</td>\n",
              "      <td>0.04</td>\n",
              "      <td>0.57</td>\n",
              "      <td>120.59</td>\n",
              "    </tr>\n",
              "    <tr>\n",
              "      <th>V8</th>\n",
              "      <td>284807.00</td>\n",
              "      <td>0.00</td>\n",
              "      <td>1.19</td>\n",
              "      <td>-73.22</td>\n",
              "      <td>-0.21</td>\n",
              "      <td>0.02</td>\n",
              "      <td>0.33</td>\n",
              "      <td>20.01</td>\n",
              "    </tr>\n",
              "    <tr>\n",
              "      <th>V9</th>\n",
              "      <td>284807.00</td>\n",
              "      <td>-0.00</td>\n",
              "      <td>1.10</td>\n",
              "      <td>-13.43</td>\n",
              "      <td>-0.64</td>\n",
              "      <td>-0.05</td>\n",
              "      <td>0.60</td>\n",
              "      <td>15.59</td>\n",
              "    </tr>\n",
              "    <tr>\n",
              "      <th>V10</th>\n",
              "      <td>284807.00</td>\n",
              "      <td>0.00</td>\n",
              "      <td>1.09</td>\n",
              "      <td>-24.59</td>\n",
              "      <td>-0.54</td>\n",
              "      <td>-0.09</td>\n",
              "      <td>0.45</td>\n",
              "      <td>23.75</td>\n",
              "    </tr>\n",
              "    <tr>\n",
              "      <th>V11</th>\n",
              "      <td>284807.00</td>\n",
              "      <td>0.00</td>\n",
              "      <td>1.02</td>\n",
              "      <td>-4.80</td>\n",
              "      <td>-0.76</td>\n",
              "      <td>-0.03</td>\n",
              "      <td>0.74</td>\n",
              "      <td>12.02</td>\n",
              "    </tr>\n",
              "    <tr>\n",
              "      <th>V12</th>\n",
              "      <td>284807.00</td>\n",
              "      <td>-0.00</td>\n",
              "      <td>1.00</td>\n",
              "      <td>-18.68</td>\n",
              "      <td>-0.41</td>\n",
              "      <td>0.14</td>\n",
              "      <td>0.62</td>\n",
              "      <td>7.85</td>\n",
              "    </tr>\n",
              "    <tr>\n",
              "      <th>V13</th>\n",
              "      <td>284807.00</td>\n",
              "      <td>0.00</td>\n",
              "      <td>1.00</td>\n",
              "      <td>-5.79</td>\n",
              "      <td>-0.65</td>\n",
              "      <td>-0.01</td>\n",
              "      <td>0.66</td>\n",
              "      <td>7.13</td>\n",
              "    </tr>\n",
              "    <tr>\n",
              "      <th>V14</th>\n",
              "      <td>284807.00</td>\n",
              "      <td>0.00</td>\n",
              "      <td>0.96</td>\n",
              "      <td>-19.21</td>\n",
              "      <td>-0.43</td>\n",
              "      <td>0.05</td>\n",
              "      <td>0.49</td>\n",
              "      <td>10.53</td>\n",
              "    </tr>\n",
              "    <tr>\n",
              "      <th>V15</th>\n",
              "      <td>284807.00</td>\n",
              "      <td>0.00</td>\n",
              "      <td>0.92</td>\n",
              "      <td>-4.50</td>\n",
              "      <td>-0.58</td>\n",
              "      <td>0.05</td>\n",
              "      <td>0.65</td>\n",
              "      <td>8.88</td>\n",
              "    </tr>\n",
              "    <tr>\n",
              "      <th>V16</th>\n",
              "      <td>284807.00</td>\n",
              "      <td>0.00</td>\n",
              "      <td>0.88</td>\n",
              "      <td>-14.13</td>\n",
              "      <td>-0.47</td>\n",
              "      <td>0.07</td>\n",
              "      <td>0.52</td>\n",
              "      <td>17.32</td>\n",
              "    </tr>\n",
              "    <tr>\n",
              "      <th>V17</th>\n",
              "      <td>284807.00</td>\n",
              "      <td>-0.00</td>\n",
              "      <td>0.85</td>\n",
              "      <td>-25.16</td>\n",
              "      <td>-0.48</td>\n",
              "      <td>-0.07</td>\n",
              "      <td>0.40</td>\n",
              "      <td>9.25</td>\n",
              "    </tr>\n",
              "    <tr>\n",
              "      <th>V18</th>\n",
              "      <td>284807.00</td>\n",
              "      <td>0.00</td>\n",
              "      <td>0.84</td>\n",
              "      <td>-9.50</td>\n",
              "      <td>-0.50</td>\n",
              "      <td>-0.00</td>\n",
              "      <td>0.50</td>\n",
              "      <td>5.04</td>\n",
              "    </tr>\n",
              "    <tr>\n",
              "      <th>V19</th>\n",
              "      <td>284807.00</td>\n",
              "      <td>0.00</td>\n",
              "      <td>0.81</td>\n",
              "      <td>-7.21</td>\n",
              "      <td>-0.46</td>\n",
              "      <td>0.00</td>\n",
              "      <td>0.46</td>\n",
              "      <td>5.59</td>\n",
              "    </tr>\n",
              "    <tr>\n",
              "      <th>V20</th>\n",
              "      <td>284807.00</td>\n",
              "      <td>0.00</td>\n",
              "      <td>0.77</td>\n",
              "      <td>-54.50</td>\n",
              "      <td>-0.21</td>\n",
              "      <td>-0.06</td>\n",
              "      <td>0.13</td>\n",
              "      <td>39.42</td>\n",
              "    </tr>\n",
              "    <tr>\n",
              "      <th>V21</th>\n",
              "      <td>284807.00</td>\n",
              "      <td>0.00</td>\n",
              "      <td>0.73</td>\n",
              "      <td>-34.83</td>\n",
              "      <td>-0.23</td>\n",
              "      <td>-0.03</td>\n",
              "      <td>0.19</td>\n",
              "      <td>27.20</td>\n",
              "    </tr>\n",
              "    <tr>\n",
              "      <th>V22</th>\n",
              "      <td>284807.00</td>\n",
              "      <td>-0.00</td>\n",
              "      <td>0.73</td>\n",
              "      <td>-10.93</td>\n",
              "      <td>-0.54</td>\n",
              "      <td>0.01</td>\n",
              "      <td>0.53</td>\n",
              "      <td>10.50</td>\n",
              "    </tr>\n",
              "    <tr>\n",
              "      <th>V23</th>\n",
              "      <td>284807.00</td>\n",
              "      <td>0.00</td>\n",
              "      <td>0.62</td>\n",
              "      <td>-44.81</td>\n",
              "      <td>-0.16</td>\n",
              "      <td>-0.01</td>\n",
              "      <td>0.15</td>\n",
              "      <td>22.53</td>\n",
              "    </tr>\n",
              "    <tr>\n",
              "      <th>V24</th>\n",
              "      <td>284807.00</td>\n",
              "      <td>0.00</td>\n",
              "      <td>0.61</td>\n",
              "      <td>-2.84</td>\n",
              "      <td>-0.35</td>\n",
              "      <td>0.04</td>\n",
              "      <td>0.44</td>\n",
              "      <td>4.58</td>\n",
              "    </tr>\n",
              "    <tr>\n",
              "      <th>V25</th>\n",
              "      <td>284807.00</td>\n",
              "      <td>0.00</td>\n",
              "      <td>0.52</td>\n",
              "      <td>-10.30</td>\n",
              "      <td>-0.32</td>\n",
              "      <td>0.02</td>\n",
              "      <td>0.35</td>\n",
              "      <td>7.52</td>\n",
              "    </tr>\n",
              "    <tr>\n",
              "      <th>V26</th>\n",
              "      <td>284807.00</td>\n",
              "      <td>0.00</td>\n",
              "      <td>0.48</td>\n",
              "      <td>-2.60</td>\n",
              "      <td>-0.33</td>\n",
              "      <td>-0.05</td>\n",
              "      <td>0.24</td>\n",
              "      <td>3.52</td>\n",
              "    </tr>\n",
              "    <tr>\n",
              "      <th>V27</th>\n",
              "      <td>284807.00</td>\n",
              "      <td>-0.00</td>\n",
              "      <td>0.40</td>\n",
              "      <td>-22.57</td>\n",
              "      <td>-0.07</td>\n",
              "      <td>0.00</td>\n",
              "      <td>0.09</td>\n",
              "      <td>31.61</td>\n",
              "    </tr>\n",
              "    <tr>\n",
              "      <th>V28</th>\n",
              "      <td>284807.00</td>\n",
              "      <td>-0.00</td>\n",
              "      <td>0.33</td>\n",
              "      <td>-15.43</td>\n",
              "      <td>-0.05</td>\n",
              "      <td>0.01</td>\n",
              "      <td>0.08</td>\n",
              "      <td>33.85</td>\n",
              "    </tr>\n",
              "    <tr>\n",
              "      <th>Amount</th>\n",
              "      <td>284807.00</td>\n",
              "      <td>88.35</td>\n",
              "      <td>250.12</td>\n",
              "      <td>0.00</td>\n",
              "      <td>5.60</td>\n",
              "      <td>22.00</td>\n",
              "      <td>77.16</td>\n",
              "      <td>25691.16</td>\n",
              "    </tr>\n",
              "    <tr>\n",
              "      <th>Class</th>\n",
              "      <td>284807.00</td>\n",
              "      <td>0.00</td>\n",
              "      <td>0.04</td>\n",
              "      <td>0.00</td>\n",
              "      <td>0.00</td>\n",
              "      <td>0.00</td>\n",
              "      <td>0.00</td>\n",
              "      <td>1.00</td>\n",
              "    </tr>\n",
              "  </tbody>\n",
              "</table>\n",
              "</div>\n",
              "    <div class=\"colab-df-buttons\">\n",
              "\n",
              "  <div class=\"colab-df-container\">\n",
              "    <button class=\"colab-df-convert\" onclick=\"convertToInteractive('df-102edc2e-1e63-4106-825f-b3fdcc6a7642')\"\n",
              "            title=\"Convert this dataframe to an interactive table.\"\n",
              "            style=\"display:none;\">\n",
              "\n",
              "  <svg xmlns=\"http://www.w3.org/2000/svg\" height=\"24px\" viewBox=\"0 -960 960 960\">\n",
              "    <path d=\"M120-120v-720h720v720H120Zm60-500h600v-160H180v160Zm220 220h160v-160H400v160Zm0 220h160v-160H400v160ZM180-400h160v-160H180v160Zm440 0h160v-160H620v160ZM180-180h160v-160H180v160Zm440 0h160v-160H620v160Z\"/>\n",
              "  </svg>\n",
              "    </button>\n",
              "\n",
              "  <style>\n",
              "    .colab-df-container {\n",
              "      display:flex;\n",
              "      gap: 12px;\n",
              "    }\n",
              "\n",
              "    .colab-df-convert {\n",
              "      background-color: #E8F0FE;\n",
              "      border: none;\n",
              "      border-radius: 50%;\n",
              "      cursor: pointer;\n",
              "      display: none;\n",
              "      fill: #1967D2;\n",
              "      height: 32px;\n",
              "      padding: 0 0 0 0;\n",
              "      width: 32px;\n",
              "    }\n",
              "\n",
              "    .colab-df-convert:hover {\n",
              "      background-color: #E2EBFA;\n",
              "      box-shadow: 0px 1px 2px rgba(60, 64, 67, 0.3), 0px 1px 3px 1px rgba(60, 64, 67, 0.15);\n",
              "      fill: #174EA6;\n",
              "    }\n",
              "\n",
              "    .colab-df-buttons div {\n",
              "      margin-bottom: 4px;\n",
              "    }\n",
              "\n",
              "    [theme=dark] .colab-df-convert {\n",
              "      background-color: #3B4455;\n",
              "      fill: #D2E3FC;\n",
              "    }\n",
              "\n",
              "    [theme=dark] .colab-df-convert:hover {\n",
              "      background-color: #434B5C;\n",
              "      box-shadow: 0px 1px 3px 1px rgba(0, 0, 0, 0.15);\n",
              "      filter: drop-shadow(0px 1px 2px rgba(0, 0, 0, 0.3));\n",
              "      fill: #FFFFFF;\n",
              "    }\n",
              "  </style>\n",
              "\n",
              "    <script>\n",
              "      const buttonEl =\n",
              "        document.querySelector('#df-102edc2e-1e63-4106-825f-b3fdcc6a7642 button.colab-df-convert');\n",
              "      buttonEl.style.display =\n",
              "        google.colab.kernel.accessAllowed ? 'block' : 'none';\n",
              "\n",
              "      async function convertToInteractive(key) {\n",
              "        const element = document.querySelector('#df-102edc2e-1e63-4106-825f-b3fdcc6a7642');\n",
              "        const dataTable =\n",
              "          await google.colab.kernel.invokeFunction('convertToInteractive',\n",
              "                                                    [key], {});\n",
              "        if (!dataTable) return;\n",
              "\n",
              "        const docLinkHtml = 'Like what you see? Visit the ' +\n",
              "          '<a target=\"_blank\" href=https://colab.research.google.com/notebooks/data_table.ipynb>data table notebook</a>'\n",
              "          + ' to learn more about interactive tables.';\n",
              "        element.innerHTML = '';\n",
              "        dataTable['output_type'] = 'display_data';\n",
              "        await google.colab.output.renderOutput(dataTable, element);\n",
              "        const docLink = document.createElement('div');\n",
              "        docLink.innerHTML = docLinkHtml;\n",
              "        element.appendChild(docLink);\n",
              "      }\n",
              "    </script>\n",
              "  </div>\n",
              "\n",
              "\n",
              "<div id=\"df-e8940853-600c-48ba-867c-3c29a339825b\">\n",
              "  <button class=\"colab-df-quickchart\" onclick=\"quickchart('df-e8940853-600c-48ba-867c-3c29a339825b')\"\n",
              "            title=\"Suggest charts\"\n",
              "            style=\"display:none;\">\n",
              "\n",
              "<svg xmlns=\"http://www.w3.org/2000/svg\" height=\"24px\"viewBox=\"0 0 24 24\"\n",
              "     width=\"24px\">\n",
              "    <g>\n",
              "        <path d=\"M19 3H5c-1.1 0-2 .9-2 2v14c0 1.1.9 2 2 2h14c1.1 0 2-.9 2-2V5c0-1.1-.9-2-2-2zM9 17H7v-7h2v7zm4 0h-2V7h2v10zm4 0h-2v-4h2v4z\"/>\n",
              "    </g>\n",
              "</svg>\n",
              "  </button>\n",
              "\n",
              "<style>\n",
              "  .colab-df-quickchart {\n",
              "      --bg-color: #E8F0FE;\n",
              "      --fill-color: #1967D2;\n",
              "      --hover-bg-color: #E2EBFA;\n",
              "      --hover-fill-color: #174EA6;\n",
              "      --disabled-fill-color: #AAA;\n",
              "      --disabled-bg-color: #DDD;\n",
              "  }\n",
              "\n",
              "  [theme=dark] .colab-df-quickchart {\n",
              "      --bg-color: #3B4455;\n",
              "      --fill-color: #D2E3FC;\n",
              "      --hover-bg-color: #434B5C;\n",
              "      --hover-fill-color: #FFFFFF;\n",
              "      --disabled-bg-color: #3B4455;\n",
              "      --disabled-fill-color: #666;\n",
              "  }\n",
              "\n",
              "  .colab-df-quickchart {\n",
              "    background-color: var(--bg-color);\n",
              "    border: none;\n",
              "    border-radius: 50%;\n",
              "    cursor: pointer;\n",
              "    display: none;\n",
              "    fill: var(--fill-color);\n",
              "    height: 32px;\n",
              "    padding: 0;\n",
              "    width: 32px;\n",
              "  }\n",
              "\n",
              "  .colab-df-quickchart:hover {\n",
              "    background-color: var(--hover-bg-color);\n",
              "    box-shadow: 0 1px 2px rgba(60, 64, 67, 0.3), 0 1px 3px 1px rgba(60, 64, 67, 0.15);\n",
              "    fill: var(--button-hover-fill-color);\n",
              "  }\n",
              "\n",
              "  .colab-df-quickchart-complete:disabled,\n",
              "  .colab-df-quickchart-complete:disabled:hover {\n",
              "    background-color: var(--disabled-bg-color);\n",
              "    fill: var(--disabled-fill-color);\n",
              "    box-shadow: none;\n",
              "  }\n",
              "\n",
              "  .colab-df-spinner {\n",
              "    border: 2px solid var(--fill-color);\n",
              "    border-color: transparent;\n",
              "    border-bottom-color: var(--fill-color);\n",
              "    animation:\n",
              "      spin 1s steps(1) infinite;\n",
              "  }\n",
              "\n",
              "  @keyframes spin {\n",
              "    0% {\n",
              "      border-color: transparent;\n",
              "      border-bottom-color: var(--fill-color);\n",
              "      border-left-color: var(--fill-color);\n",
              "    }\n",
              "    20% {\n",
              "      border-color: transparent;\n",
              "      border-left-color: var(--fill-color);\n",
              "      border-top-color: var(--fill-color);\n",
              "    }\n",
              "    30% {\n",
              "      border-color: transparent;\n",
              "      border-left-color: var(--fill-color);\n",
              "      border-top-color: var(--fill-color);\n",
              "      border-right-color: var(--fill-color);\n",
              "    }\n",
              "    40% {\n",
              "      border-color: transparent;\n",
              "      border-right-color: var(--fill-color);\n",
              "      border-top-color: var(--fill-color);\n",
              "    }\n",
              "    60% {\n",
              "      border-color: transparent;\n",
              "      border-right-color: var(--fill-color);\n",
              "    }\n",
              "    80% {\n",
              "      border-color: transparent;\n",
              "      border-right-color: var(--fill-color);\n",
              "      border-bottom-color: var(--fill-color);\n",
              "    }\n",
              "    90% {\n",
              "      border-color: transparent;\n",
              "      border-bottom-color: var(--fill-color);\n",
              "    }\n",
              "  }\n",
              "</style>\n",
              "\n",
              "  <script>\n",
              "    async function quickchart(key) {\n",
              "      const quickchartButtonEl =\n",
              "        document.querySelector('#' + key + ' button');\n",
              "      quickchartButtonEl.disabled = true;  // To prevent multiple clicks.\n",
              "      quickchartButtonEl.classList.add('colab-df-spinner');\n",
              "      try {\n",
              "        const charts = await google.colab.kernel.invokeFunction(\n",
              "            'suggestCharts', [key], {});\n",
              "      } catch (error) {\n",
              "        console.error('Error during call to suggestCharts:', error);\n",
              "      }\n",
              "      quickchartButtonEl.classList.remove('colab-df-spinner');\n",
              "      quickchartButtonEl.classList.add('colab-df-quickchart-complete');\n",
              "    }\n",
              "    (() => {\n",
              "      let quickchartButtonEl =\n",
              "        document.querySelector('#df-e8940853-600c-48ba-867c-3c29a339825b button');\n",
              "      quickchartButtonEl.style.display =\n",
              "        google.colab.kernel.accessAllowed ? 'block' : 'none';\n",
              "    })();\n",
              "  </script>\n",
              "</div>\n",
              "\n",
              "    </div>\n",
              "  </div>\n"
            ],
            "application/vnd.google.colaboratory.intrinsic+json": {
              "type": "dataframe",
              "summary": "{\n  \"name\": \"df\",\n  \"rows\": 31,\n  \"fields\": [\n    {\n      \"column\": \"count\",\n      \"properties\": {\n        \"dtype\": \"number\",\n        \"std\": 0.0,\n        \"min\": 284807.0,\n        \"max\": 284807.0,\n        \"num_unique_values\": 1,\n        \"samples\": [\n          284807.0\n        ],\n        \"semantic_type\": \"\",\n        \"description\": \"\"\n      }\n    },\n    {\n      \"column\": \"mean\",\n      \"properties\": {\n        \"dtype\": \"number\",\n        \"std\": 17028.550324734668,\n        \"min\": -2.4063305498905906e-15,\n        \"max\": 94813.85957508067,\n        \"num_unique_values\": 31,\n        \"samples\": [\n          -3.6600908126037946e-16\n        ],\n        \"semantic_type\": \"\",\n        \"description\": \"\"\n      }\n    },\n    {\n      \"column\": \"std\",\n      \"properties\": {\n        \"dtype\": \"number\",\n        \"std\": 8527.578758378544,\n        \"min\": 0.0415271896355952,\n        \"max\": 47488.14595456582,\n        \"num_unique_values\": 31,\n        \"samples\": [\n          0.4036324949650267\n        ],\n        \"semantic_type\": \"\",\n        \"description\": \"\"\n      }\n    },\n    {\n      \"column\": \"min\",\n      \"properties\": {\n        \"dtype\": \"number\",\n        \"std\": 26.795994690128563,\n        \"min\": -113.743306711146,\n        \"max\": 0.0,\n        \"num_unique_values\": 29,\n        \"samples\": [\n          -22.5656793207827\n        ],\n        \"semantic_type\": \"\",\n        \"description\": \"\"\n      }\n    },\n    {\n      \"column\": \"25%\",\n      \"properties\": {\n        \"dtype\": \"number\",\n        \"std\": 9734.925083048505,\n        \"min\": -0.920373384390322,\n        \"max\": 54201.5,\n        \"num_unique_values\": 31,\n        \"samples\": [\n          -0.07083952930446921\n        ],\n        \"semantic_type\": \"\",\n        \"description\": \"\"\n      }\n    },\n    {\n      \"column\": \"50%\",\n      \"properties\": {\n        \"dtype\": \"number\",\n        \"std\": 15211.001352467909,\n        \"min\": -0.274187076506651,\n        \"max\": 84692.0,\n        \"num_unique_values\": 31,\n        \"samples\": [\n          0.0013421459786502\n        ],\n        \"semantic_type\": \"\",\n        \"description\": \"\"\n      }\n    },\n    {\n      \"column\": \"75%\",\n      \"properties\": {\n        \"dtype\": \"number\",\n        \"std\": 25022.157936531003,\n        \"min\": 0.0,\n        \"max\": 139320.5,\n        \"num_unique_values\": 31,\n        \"samples\": [\n          0.09104511968580689\n        ],\n        \"semantic_type\": \"\",\n        \"description\": \"\"\n      }\n    },\n    {\n      \"column\": \"max\",\n      \"properties\": {\n        \"dtype\": \"number\",\n        \"std\": 31218.887137498223,\n        \"min\": 1.0,\n        \"max\": 172792.0,\n        \"num_unique_values\": 31,\n        \"samples\": [\n          31.6121981061363\n        ],\n        \"semantic_type\": \"\",\n        \"description\": \"\"\n      }\n    }\n  ]\n}"
            }
          },
          "metadata": {},
          "execution_count": 6
        }
      ]
    },
    {
      "cell_type": "markdown",
      "source": [
        "## Explorer Data Analysis"
      ],
      "metadata": {
        "id": "m6_RhKaA_UaX"
      }
    },
    {
      "cell_type": "code",
      "source": [
        "V_cols = df.columns[df.columns.str.contains(\"V\")].tolist()\n",
        "df_V = df.loc[:, df.columns.str.contains(\"V\")]"
      ],
      "metadata": {
        "id": "cuJMJwAxYWjA"
      },
      "execution_count": 7,
      "outputs": []
    },
    {
      "cell_type": "code",
      "source": [
        "df_V.min().min(), df_V.max().max(), df_V.mean().mean()"
      ],
      "metadata": {
        "colab": {
          "base_uri": "https://localhost:8080/"
        },
        "id": "CW8-j4KXbPql",
        "outputId": "bed46c3d-6f74-4004-e131-71d3ff6dc5ab"
      },
      "execution_count": 8,
      "outputs": [
        {
          "output_type": "execute_result",
          "data": {
            "text/plain": [
              "(-113.743306711146, 120.589493945238, np.float64(7.627407802383963e-16))"
            ]
          },
          "metadata": {},
          "execution_count": 8
        }
      ]
    },
    {
      "cell_type": "markdown",
      "source": [
        "### Imbalanced Values"
      ],
      "metadata": {
        "id": "tnP8l7sK-RdO"
      }
    },
    {
      "cell_type": "code",
      "source": [
        "plt.figure(figsize=(6, 4))\n",
        "ax = sns.countplot(x=df['Class'], data=df, hue='Class')\n",
        "\n",
        "for p in ax.patches:\n",
        "    ax.annotate(f'{int(p.get_height())}',\n",
        "                (p.get_x() + p.get_width()/2 , p.get_height()/2),\n",
        "                ha='center', va='bottom', fontsize=9, color='black')\n",
        "\n",
        "plt.title(\"Imbalanced Values\")\n",
        "plt.show()"
      ],
      "metadata": {
        "colab": {
          "base_uri": "https://localhost:8080/",
          "height": 410
        },
        "id": "Cb08ydBnceo7",
        "outputId": "9747d1cf-51c5-456b-91e8-01457eb17225"
      },
      "execution_count": 9,
      "outputs": [
        {
          "output_type": "display_data",
          "data": {
            "text/plain": [
              "<Figure size 600x400 with 1 Axes>"
            ],
            "image/png": "[encoded data removed]"
          },
          "metadata": {}
        }
      ]
    },
    {
      "cell_type": "markdown",
      "source": [
        "### Amount Distribution"
      ],
      "metadata": {
        "id": "2V8jClLw-Nu2"
      }
    },
    {
      "cell_type": "code",
      "source": [
        "plt.figure(figsize=(6,4))\n",
        "ax = sns.histplot(x=df['Amount'],data=df, bins=50,color='orange', kde=True)\n",
        "for line in ax.lines:\n",
        "    line.set_color('purple')\n",
        "    line.set_linewidth(1)\n",
        "ax.set_ylim(0,20000)\n",
        "ax.set_xlim(0,10000)\n",
        "plt.title(\"Amount Distribution\")\n",
        "plt.show()\n"
      ],
      "metadata": {
        "colab": {
          "base_uri": "https://localhost:8080/",
          "height": 410
        },
        "id": "s2NED6lQbeC2",
        "outputId": "cd055369-1377-44b0-e40a-142a50ad28be"
      },
      "execution_count": 10,
      "outputs": [
        {
          "output_type": "display_data",
          "data": {
            "text/plain": [
              "<Figure size 600x400 with 1 Axes>"
            ],
            "image/png": "[encoded data removed]"
          },
          "metadata": {}
        }
      ]
    },
    {
      "cell_type": "markdown",
      "source": [
        "### Distribution of The Time"
      ],
      "metadata": {
        "id": "Y8wez5pT-zgr"
      }
    },
    {
      "cell_type": "code",
      "source": [
        "plt.figure(figsize=(6,4))\n",
        "ax = sns.histplot(x=df['Time'],data=df, bins=50,color='green', kde=True)\n",
        "for line in ax.lines:\n",
        "    line.set_color('brown')\n",
        "    line.set_linewidth(1)\n",
        "plt.title(\"Distribution of The Time\")\n",
        "plt.show()\n"
      ],
      "metadata": {
        "colab": {
          "base_uri": "https://localhost:8080/",
          "height": 410
        },
        "id": "XA-Jh13SbwSB",
        "outputId": "8ec68601-dad7-4d5f-bf31-18f64e28f45d"
      },
      "execution_count": 11,
      "outputs": [
        {
          "output_type": "display_data",
          "data": {
            "text/plain": [
              "<Figure size 600x400 with 1 Axes>"
            ],
            "image/png": "[encoded data removed]"
          },
          "metadata": {}
        }
      ]
    },
    {
      "cell_type": "markdown",
      "source": [
        "## Scaler"
      ],
      "metadata": {
        "id": "QRsuWZEa_rA7"
      }
    },
    {
      "cell_type": "code",
      "source": [
        "scaler = RobustScaler()\n",
        "df['Amount'] = scaler.fit_transform(df['Amount'].values.reshape(-1,1))\n",
        "df['Time'] = scaler.fit_transform(df['Time'].values.reshape(-1,1))"
      ],
      "metadata": {
        "id": "fx18dCbJbwVA"
      },
      "execution_count": 12,
      "outputs": []
    },
    {
      "cell_type": "markdown",
      "source": [
        "## Base Model"
      ],
      "metadata": {
        "id": "hZfDt5-hAqaK"
      }
    },
    {
      "cell_type": "code",
      "source": [
        "X= df.drop('Class',axis=1)\n",
        "y = df['Class']\n",
        "\n",
        "X_train, X_test, y_train, y_test  =train_test_split(X, y, test_size=0.2, random_state=234)"
      ],
      "metadata": {
        "id": "V9KVICYzbwXx"
      },
      "execution_count": 13,
      "outputs": []
    },
    {
      "cell_type": "code",
      "source": [
        "model = LogisticRegression()\n",
        "model.fit(X_train, y_train)\n",
        "y_pred = model.predict(X_test)\n",
        "accuracy  = accuracy_score(y_test, y_pred)\n",
        "print(f\"Accuracy: {accuracy}\")"
      ],
      "metadata": {
        "colab": {
          "base_uri": "https://localhost:8080/"
        },
        "id": "CEkuVHLqbwah",
        "outputId": "37a6d176-3a21-43d9-82ce-d7acd652e3a5"
      },
      "execution_count": 14,
      "outputs": [
        {
          "output_type": "stream",
          "name": "stdout",
          "text": [
            "Accuracy: 0.9992626663389628\n"
          ]
        }
      ]
    },
    {
      "cell_type": "code",
      "source": [
        "print(classification_report(y_test, y_pred))"
      ],
      "metadata": {
        "colab": {
          "base_uri": "https://localhost:8080/"
        },
        "id": "07cd55zJBHVS",
        "outputId": "40165d73-8bb6-455e-bf68-bbff273d5d59"
      },
      "execution_count": 15,
      "outputs": [
        {
          "output_type": "stream",
          "name": "stdout",
          "text": [
            "              precision    recall  f1-score   support\n",
            "\n",
            "           0       1.00      1.00      1.00     56855\n",
            "           1       0.89      0.69      0.78       107\n",
            "\n",
            "    accuracy                           1.00     56962\n",
            "   macro avg       0.95      0.85      0.89     56962\n",
            "weighted avg       1.00      1.00      1.00     56962\n",
            "\n"
          ]
        }
      ]
    },
    {
      "cell_type": "markdown",
      "source": [
        "### **The Inference**"
      ],
      "metadata": {
        "id": "wZLdpCJ1Dy4x"
      }
    },
    {
      "cell_type": "markdown",
      "source": [
        "**Although Accuracy of Base Model is very good, Recall of Base Model is very low.**"
      ],
      "metadata": {
        "id": "uR1Wp72JDCh4"
      }
    },
    {
      "cell_type": "markdown",
      "source": [
        "## Resampling"
      ],
      "metadata": {
        "id": "MCxpaH50Gtqt"
      }
    },
    {
      "cell_type": "markdown",
      "source": [
        "### Random Over Sampling"
      ],
      "metadata": {
        "id": "QnOpXPm3I8eP"
      }
    },
    {
      "cell_type": "code",
      "source": [
        "ros = RandomOverSampler(sampling_strategy='minority')\n",
        "X_ros, y_ros = ros.fit_resample(X_train, y_train)\n",
        "y_ros.value_counts()"
      ],
      "metadata": {
        "colab": {
          "base_uri": "https://localhost:8080/",
          "height": 178
        },
        "id": "0NCa-ReJBHX6",
        "outputId": "b668b89e-5cea-4794-86fa-cef955122ee0"
      },
      "execution_count": 16,
      "outputs": [
        {
          "output_type": "execute_result",
          "data": {
            "text/plain": [
              "Class\n",
              "0    227460\n",
              "1    227460\n",
              "Name: count, dtype: int64"
            ],
            "text/html": [
              "<div>\n",
              "<style scoped>\n",
              "    .dataframe tbody tr th:only-of-type {\n",
              "        vertical-align: middle;\n",
              "    }\n",
              "\n",
              "    .dataframe tbody tr th {\n",
              "        vertical-align: top;\n",
              "    }\n",
              "\n",
              "    .dataframe thead th {\n",
              "        text-align: right;\n",
              "    }\n",
              "</style>\n",
              "<table border=\"1\" class=\"dataframe\">\n",
              "  <thead>\n",
              "    <tr style=\"text-align: right;\">\n",
              "      <th></th>\n",
              "      <th>count</th>\n",
              "    </tr>\n",
              "    <tr>\n",
              "      <th>Class</th>\n",
              "      <th></th>\n",
              "    </tr>\n",
              "  </thead>\n",
              "  <tbody>\n",
              "    <tr>\n",
              "      <th>0</th>\n",
              "      <td>227460</td>\n",
              "    </tr>\n",
              "    <tr>\n",
              "      <th>1</th>\n",
              "      <td>227460</td>\n",
              "    </tr>\n",
              "  </tbody>\n",
              "</table>\n",
              "</div><br><label><b>dtype:</b> int64</label>"
            ]
          },
          "metadata": {},
          "execution_count": 16
        }
      ]
    },
    {
      "cell_type": "code",
      "source": [
        "model.fit(X_ros, y_ros)\n",
        "y_pred = model.predict(X_test)\n",
        "print(\"Random Over Sampling Classification Report\".center(70), '\\n\\n',classification_report(y_test, y_pred))"
      ],
      "metadata": {
        "colab": {
          "base_uri": "https://localhost:8080/"
        },
        "id": "FJsNK5EPBHc8",
        "outputId": "d4ced8b3-da60-4747-b2f0-3615b1d5bfcb"
      },
      "execution_count": 17,
      "outputs": [
        {
          "output_type": "stream",
          "name": "stdout",
          "text": [
            "              Random Over Sampling Classification Report               \n",
            "\n",
            "               precision    recall  f1-score   support\n",
            "\n",
            "           0       1.00      0.98      0.99     56855\n",
            "           1       0.07      0.91      0.13       107\n",
            "\n",
            "    accuracy                           0.98     56962\n",
            "   macro avg       0.53      0.94      0.56     56962\n",
            "weighted avg       1.00      0.98      0.99     56962\n",
            "\n"
          ]
        }
      ]
    },
    {
      "cell_type": "markdown",
      "source": [
        "### SMOTE Sampling"
      ],
      "metadata": {
        "id": "MKB8Y2coJAVv"
      }
    },
    {
      "cell_type": "code",
      "source": [
        "smote = SMOTE()\n",
        "X_smote, y_smote = smote.fit_resample(X_train, y_train)\n",
        "y_smote.value_counts()"
      ],
      "metadata": {
        "colab": {
          "base_uri": "https://localhost:8080/",
          "height": 178
        },
        "id": "TSR2OrvgBHrq",
        "outputId": "3312e38a-e9ca-4cbe-c5d5-82e30689e00a"
      },
      "execution_count": 18,
      "outputs": [
        {
          "output_type": "execute_result",
          "data": {
            "text/plain": [
              "Class\n",
              "0    227460\n",
              "1    227460\n",
              "Name: count, dtype: int64"
            ],
            "text/html": [
              "<div>\n",
              "<style scoped>\n",
              "    .dataframe tbody tr th:only-of-type {\n",
              "        vertical-align: middle;\n",
              "    }\n",
              "\n",
              "    .dataframe tbody tr th {\n",
              "        vertical-align: top;\n",
              "    }\n",
              "\n",
              "    .dataframe thead th {\n",
              "        text-align: right;\n",
              "    }\n",
              "</style>\n",
              "<table border=\"1\" class=\"dataframe\">\n",
              "  <thead>\n",
              "    <tr style=\"text-align: right;\">\n",
              "      <th></th>\n",
              "      <th>count</th>\n",
              "    </tr>\n",
              "    <tr>\n",
              "      <th>Class</th>\n",
              "      <th></th>\n",
              "    </tr>\n",
              "  </thead>\n",
              "  <tbody>\n",
              "    <tr>\n",
              "      <th>0</th>\n",
              "      <td>227460</td>\n",
              "    </tr>\n",
              "    <tr>\n",
              "      <th>1</th>\n",
              "      <td>227460</td>\n",
              "    </tr>\n",
              "  </tbody>\n",
              "</table>\n",
              "</div><br><label><b>dtype:</b> int64</label>"
            ]
          },
          "metadata": {},
          "execution_count": 18
        }
      ]
    },
    {
      "cell_type": "code",
      "source": [
        "model.fit(X_smote, y_smote)\n",
        "y_pred = model.predict(X_test)\n",
        "print(\"SMOTE Sampling Classification Report\".center(70), '\\n\\n',classification_report(y_test, y_pred))"
      ],
      "metadata": {
        "colab": {
          "base_uri": "https://localhost:8080/"
        },
        "id": "TqO8Gq8YBHut",
        "outputId": "4ad5acfe-87ca-4917-faaa-e146f4d79615"
      },
      "execution_count": 19,
      "outputs": [
        {
          "output_type": "stream",
          "name": "stdout",
          "text": [
            "                 SMOTE Sampling Classification Report                  \n",
            "\n",
            "               precision    recall  f1-score   support\n",
            "\n",
            "           0       1.00      0.97      0.99     56855\n",
            "           1       0.06      0.90      0.12       107\n",
            "\n",
            "    accuracy                           0.97     56962\n",
            "   macro avg       0.53      0.94      0.55     56962\n",
            "weighted avg       1.00      0.97      0.99     56962\n",
            "\n"
          ]
        }
      ]
    },
    {
      "cell_type": "markdown",
      "source": [
        "## Random Under Sampling"
      ],
      "metadata": {
        "id": "2X6dP_pnKiJe"
      }
    },
    {
      "cell_type": "code",
      "source": [
        "undersampler  = RandomUnderSampler(sampling_strategy='majority')\n",
        "X_undersample, y_undersample  = undersampler.fit_resample(X_train, y_train)\n",
        "y_undersample.value_counts()"
      ],
      "metadata": {
        "colab": {
          "base_uri": "https://localhost:8080/",
          "height": 178
        },
        "id": "1q-j2uRRKVD_",
        "outputId": "5a90f40c-705d-4332-ee2e-754a45a5e495"
      },
      "execution_count": 20,
      "outputs": [
        {
          "output_type": "execute_result",
          "data": {
            "text/plain": [
              "Class\n",
              "0    385\n",
              "1    385\n",
              "Name: count, dtype: int64"
            ],
            "text/html": [
              "<div>\n",
              "<style scoped>\n",
              "    .dataframe tbody tr th:only-of-type {\n",
              "        vertical-align: middle;\n",
              "    }\n",
              "\n",
              "    .dataframe tbody tr th {\n",
              "        vertical-align: top;\n",
              "    }\n",
              "\n",
              "    .dataframe thead th {\n",
              "        text-align: right;\n",
              "    }\n",
              "</style>\n",
              "<table border=\"1\" class=\"dataframe\">\n",
              "  <thead>\n",
              "    <tr style=\"text-align: right;\">\n",
              "      <th></th>\n",
              "      <th>count</th>\n",
              "    </tr>\n",
              "    <tr>\n",
              "      <th>Class</th>\n",
              "      <th></th>\n",
              "    </tr>\n",
              "  </thead>\n",
              "  <tbody>\n",
              "    <tr>\n",
              "      <th>0</th>\n",
              "      <td>385</td>\n",
              "    </tr>\n",
              "    <tr>\n",
              "      <th>1</th>\n",
              "      <td>385</td>\n",
              "    </tr>\n",
              "  </tbody>\n",
              "</table>\n",
              "</div><br><label><b>dtype:</b> int64</label>"
            ]
          },
          "metadata": {},
          "execution_count": 20
        }
      ]
    },
    {
      "cell_type": "code",
      "source": [
        "model.fit(X_undersample, y_undersample)\n",
        "y_pred = model.predict(X_test)\n",
        "print(\"Random Under Sampling Classification Report\".center(70), '\\n\\n',classification_report(y_test, y_pred))"
      ],
      "metadata": {
        "colab": {
          "base_uri": "https://localhost:8080/"
        },
        "id": "zo6dyMgeKVKA",
        "outputId": "09bac54c-e33e-4408-e6a8-f44dfb866b87"
      },
      "execution_count": 21,
      "outputs": [
        {
          "output_type": "stream",
          "name": "stdout",
          "text": [
            "             Random Under Sampling Classification Report               \n",
            "\n",
            "               precision    recall  f1-score   support\n",
            "\n",
            "           0       1.00      0.96      0.98     56855\n",
            "           1       0.05      0.92      0.09       107\n",
            "\n",
            "    accuracy                           0.96     56962\n",
            "   macro avg       0.52      0.94      0.53     56962\n",
            "weighted avg       1.00      0.96      0.98     56962\n",
            "\n"
          ]
        }
      ]
    },
    {
      "cell_type": "markdown",
      "source": [
        "### ADASYN (Adaptive Synthetic Sampling)"
      ],
      "metadata": {
        "id": "gFXXla2SJk4I"
      }
    },
    {
      "cell_type": "code",
      "source": [
        "adasyn = ADASYN(sampling_strategy='minority')\n",
        "X_adasyn, y_adasyn = adasyn.fit_resample(X_train, y_train)\n",
        "y_adasyn.value_counts()"
      ],
      "metadata": {
        "colab": {
          "base_uri": "https://localhost:8080/",
          "height": 178
        },
        "id": "gE1TeujYJSeu",
        "outputId": "95fb5676-ed65-44d0-d5ac-32867452519e"
      },
      "execution_count": 22,
      "outputs": [
        {
          "output_type": "execute_result",
          "data": {
            "text/plain": [
              "Class\n",
              "0    227460\n",
              "1    227425\n",
              "Name: count, dtype: int64"
            ],
            "text/html": [
              "<div>\n",
              "<style scoped>\n",
              "    .dataframe tbody tr th:only-of-type {\n",
              "        vertical-align: middle;\n",
              "    }\n",
              "\n",
              "    .dataframe tbody tr th {\n",
              "        vertical-align: top;\n",
              "    }\n",
              "\n",
              "    .dataframe thead th {\n",
              "        text-align: right;\n",
              "    }\n",
              "</style>\n",
              "<table border=\"1\" class=\"dataframe\">\n",
              "  <thead>\n",
              "    <tr style=\"text-align: right;\">\n",
              "      <th></th>\n",
              "      <th>count</th>\n",
              "    </tr>\n",
              "    <tr>\n",
              "      <th>Class</th>\n",
              "      <th></th>\n",
              "    </tr>\n",
              "  </thead>\n",
              "  <tbody>\n",
              "    <tr>\n",
              "      <th>0</th>\n",
              "      <td>227460</td>\n",
              "    </tr>\n",
              "    <tr>\n",
              "      <th>1</th>\n",
              "      <td>227425</td>\n",
              "    </tr>\n",
              "  </tbody>\n",
              "</table>\n",
              "</div><br><label><b>dtype:</b> int64</label>"
            ]
          },
          "metadata": {},
          "execution_count": 22
        }
      ]
    },
    {
      "cell_type": "code",
      "source": [
        "model.fit(X_adasyn, y_adasyn)\n",
        "y_pred = model.predict(X_test)\n",
        "print(\"ADASYN Sampling Classification Report\".center(70), '\\n\\n',classification_report(y_test, y_pred))"
      ],
      "metadata": {
        "colab": {
          "base_uri": "https://localhost:8080/"
        },
        "id": "E11VnHW0JSlG",
        "outputId": "876a02fd-c758-486b-caa3-1e88a0fe011d"
      },
      "execution_count": 23,
      "outputs": [
        {
          "output_type": "stream",
          "name": "stdout",
          "text": [
            "                ADASYN Sampling Classification Report                  \n",
            "\n",
            "               precision    recall  f1-score   support\n",
            "\n",
            "           0       1.00      0.92      0.96     56855\n",
            "           1       0.02      0.93      0.04       107\n",
            "\n",
            "    accuracy                           0.92     56962\n",
            "   macro avg       0.51      0.92      0.50     56962\n",
            "weighted avg       1.00      0.92      0.96     56962\n",
            "\n"
          ]
        }
      ]
    },
    {
      "cell_type": "code",
      "source": [
        "def plot_confusion_matrix(cm, classes,\n",
        "                          title='Confusion matrix',\n",
        "                          cmap=plt.cm.Blues):\n",
        "\n",
        "    plt.rcParams.update({'font.size': 10})\n",
        "    plt.imshow(cm, interpolation='nearest', cmap=cmap)\n",
        "    plt.title(title,fontdict={'size':'16'})\n",
        "    plt.colorbar()\n",
        "    tick_marks = np.arange(len(classes))\n",
        "    plt.xticks(tick_marks, classes, rotation=45,fontsize=9,color=\"blue\")\n",
        "    plt.yticks(tick_marks, classes,fontsize=9,color=\"blue\")\n",
        "    rc('font', weight='bold')\n",
        "    fmt = '.1f'\n",
        "    thresh = cm.max()\n",
        "    for i, j in itertools.product(range(cm.shape[0]), range(cm.shape[1])):\n",
        "        plt.text(j, i, format(cm[i, j], fmt),\n",
        "                 horizontalalignment=\"center\",\n",
        "                 color=\"red\")\n",
        "\n",
        "    plt.ylabel('True label',fontdict={'size':'10'})\n",
        "    plt.xlabel('Predicted label',fontdict={'size':'10'})\n",
        "    plt.tight_layout()\n",
        "\n",
        "plot_confusion_matrix(confusion_matrix(y_test, y_pred=y_pred), classes=['No Fraud','Fraud'],\n",
        "                      title='Confusion matrix')"
      ],
      "metadata": {
        "colab": {
          "base_uri": "https://localhost:8080/",
          "height": 487
        },
        "id": "Z9Kgq2LKMAvD",
        "outputId": "85e2ac2c-00f8-415b-f4dc-5f5e0aed7097"
      },
      "execution_count": 24,
      "outputs": [
        {
          "output_type": "display_data",
          "data": {
            "text/plain": [
              "<Figure size 640x480 with 2 Axes>"
            ],
            "image/png": "[encoded data removed]"
          },
          "metadata": {}
        }
      ]
    }
  ]
}